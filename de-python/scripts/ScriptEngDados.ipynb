{
  "nbformat": 4,
  "nbformat_minor": 0,
  "metadata": {
    "colab": {
      "provenance": []
    },
    "kernelspec": {
      "name": "python3",
      "display_name": "Python 3"
    },
    "language_info": {
      "name": "python"
    }
  },
  "cells": [
    {
      "cell_type": "code",
      "execution_count": null,
      "metadata": {
        "id": "oqrmasGqA1jW"
      },
      "outputs": [],
      "source": [
        "import psycopg2 #biblioteca para conectar e interagir com bd postgres\n",
        "con = psycopg2.connect(host='INSIRA-O-HOST-DO-SEU-BD',database='inventario',user='SEU-USER-DO-BD',password='SUA-SENHA-DO-BD')\n",
        "con.autocommit = True #transações sendo comitadas automaticamente\n",
        "cur = con.cursor() #objeto de interação com o BD\n",
        "cur.execute('create database inventario;')\n",
        "con.close()"
      ]
    },
    {
      "cell_type": "code",
      "source": [
        "import psycopg2\n",
        "con = psycopg2.connect(host='INSIRA-O-HOST-DO-SEU-BD',database='inventario',user='SEU-USER-DO-BD',password='SUA-SENHA-DO-BD')\n",
        "con.autocommit = True\n",
        "cur = con.cursor()\n",
        "cur.execute('create table arquivos (idarquivo INT, nomearquivo VARCHAR(256));')\n",
        "con.close()"
      ],
      "metadata": {
        "id": "kEKbyFtBBGQN"
      },
      "execution_count": null,
      "outputs": []
    },
    {
      "cell_type": "code",
      "source": [
        "!pip install boto3"
      ],
      "metadata": {
        "id": "KrbaQzHiCi3u",
        "colab": {
          "base_uri": "https://localhost:8080/"
        },
        "outputId": "b3b2f207-aef4-4b4b-9389-d36b1cea10f0"
      },
      "execution_count": null,
      "outputs": [
        {
          "output_type": "stream",
          "name": "stdout",
          "text": [
            "Collecting boto3\n",
            "  Downloading boto3-1.34.44-py3-none-any.whl (139 kB)\n",
            "\u001b[2K     \u001b[90m━━━━━━━━━━━━━━━━━━━━━━━━━━━━━━━━━━━━━━━━\u001b[0m \u001b[32m139.3/139.3 kB\u001b[0m \u001b[31m3.2 MB/s\u001b[0m eta \u001b[36m0:00:00\u001b[0m\n",
            "\u001b[?25hCollecting botocore<1.35.0,>=1.34.44 (from boto3)\n",
            "  Downloading botocore-1.34.44-py3-none-any.whl (12.0 MB)\n",
            "\u001b[2K     \u001b[90m━━━━━━━━━━━━━━━━━━━━━━━━━━━━━━━━━━━━━━━━\u001b[0m \u001b[32m12.0/12.0 MB\u001b[0m \u001b[31m22.6 MB/s\u001b[0m eta \u001b[36m0:00:00\u001b[0m\n",
            "\u001b[?25hCollecting jmespath<2.0.0,>=0.7.1 (from boto3)\n",
            "  Downloading jmespath-1.0.1-py3-none-any.whl (20 kB)\n",
            "Collecting s3transfer<0.11.0,>=0.10.0 (from boto3)\n",
            "  Downloading s3transfer-0.10.0-py3-none-any.whl (82 kB)\n",
            "\u001b[2K     \u001b[90m━━━━━━━━━━━━━━━━━━━━━━━━━━━━━━━━━━━━━━━━\u001b[0m \u001b[32m82.1/82.1 kB\u001b[0m \u001b[31m8.2 MB/s\u001b[0m eta \u001b[36m0:00:00\u001b[0m\n",
            "\u001b[?25hRequirement already satisfied: python-dateutil<3.0.0,>=2.1 in /usr/local/lib/python3.10/dist-packages (from botocore<1.35.0,>=1.34.44->boto3) (2.8.2)\n",
            "Requirement already satisfied: urllib3<2.1,>=1.25.4 in /usr/local/lib/python3.10/dist-packages (from botocore<1.35.0,>=1.34.44->boto3) (2.0.7)\n",
            "Requirement already satisfied: six>=1.5 in /usr/local/lib/python3.10/dist-packages (from python-dateutil<3.0.0,>=2.1->botocore<1.35.0,>=1.34.44->boto3) (1.16.0)\n",
            "Installing collected packages: jmespath, botocore, s3transfer, boto3\n",
            "Successfully installed boto3-1.34.44 botocore-1.34.44 jmespath-1.0.1 s3transfer-0.10.0\n"
          ]
        }
      ]
    },
    {
      "cell_type": "code",
      "source": [
        "import boto3\n",
        "import io\n",
        "import psycopg2\n",
        "\n",
        "s3 = boto3.resource(\n",
        "    service_name='s3',\n",
        "    region_name = 'sa-east-1',\n",
        "    aws_access_key_id = 'SUA-CHAVE-DE-ACESSO',\n",
        "    aws_secret_access_key = 'SUA-CHAVE-SECRETA'\n",
        "    )\n",
        "\n",
        "bucket = 'mybucketcursode'\n",
        "prefix = 'imagens/'\n",
        "\n",
        "for objects_s3 in s3.Bucket(bucket).objects.filter(Prefix=prefix):\n",
        "  if objects_s3.key.endswith('jpg') or objects_s3.key.endswith('JPG'):\n",
        "    filename = objects_s3.key.split('/')[1]\n",
        "    print(filename)\n"
      ],
      "metadata": {
        "id": "M22p71ypDUbI",
        "colab": {
          "base_uri": "https://localhost:8080/"
        },
        "outputId": "9f59fed9-6285-40ba-bb78-d5fb510ea66c"
      },
      "execution_count": null,
      "outputs": [
        {
          "output_type": "stream",
          "name": "stdout",
          "text": [
            "avenue-g9ad8b9b60_640.jpg\n",
            "dandelion-ge4c90edd8_640.jpg\n",
            "fantasy-g95f970a56_640.jpg\n",
            "garden-g42e486784_640.jpg\n",
            "pink-ge82d54651_640.jpg\n",
            "road-g37132565b_640.jpg\n",
            "road-g41ea28d46_640.jpg\n",
            "sunset-gac16749a1_640.jpg\n",
            "tree-g386d6021c_640.jpg\n",
            "tree-gd34ff2fcb_640.jpg\n"
          ]
        }
      ]
    },
    {
      "cell_type": "code",
      "source": [
        "s3 = boto3.resource(\n",
        "    service_name='s3',\n",
        "    region_name = 'sa-east-1',\n",
        "    aws_access_key_id = 'SUA-CHAVE-DE-ACESSO',\n",
        "    aws_secret_access_key = 'SUA-CHAVE-SECRETA'\n",
        "    )\n",
        "\n",
        "bucket = 'mybucketcursode'\n",
        "prefix = 'imagens/'\n",
        "\n",
        "con = psycopg2.connect(host='INSIRA-O-HOST-DO-SEU-BD',database='inventario',user='SEU-USER-DO-BD',password='SUA-SENHA-DO-BD')\n",
        "\n",
        "con.autocommit = True\n",
        "cur = con.cursor()\n",
        "id = 0\n",
        "\n",
        "for objects_s3 in s3.Bucket(bucket).objects.filter(Prefix=prefix):\n",
        "  if objects_s3.key.endswith('jpg') or objects_s3.key.endswith('JPG'):\n",
        "    filename = objects_s3.key.split('/')[1]\n",
        "    print(filename)\n",
        "    id += 1\n",
        "    cur.execute(\"insert into arquivos (idarquivo,nomearquivo) values (\" +str(id)+ \",'\" + filename + \"')\")\n",
        "\n",
        "con.close()"
      ],
      "metadata": {
        "id": "t-HDncvFvZqC"
      },
      "execution_count": null,
      "outputs": []
    },
    {
      "cell_type": "code",
      "source": [
        "con = psycopg2.connect(host='INSIRA-O-HOST-DO-SEU-BD',database='inventario',user='SEU-USER-DO-BD',password='SUA-SENHA-DO-BD')\n",
        "\n",
        "con.autocommit = True\n",
        "cur = con.cursor()\n",
        "\n",
        "cur.execute('select * from arquivos;')\n",
        "recset = cur.fetchall()\n",
        "for rec in recset:\n",
        "  print(rec)\n",
        "con.close()"
      ],
      "metadata": {
        "colab": {
          "base_uri": "https://localhost:8080/"
        },
        "id": "JDoKhmKKFK9n",
        "outputId": "b31e0be5-10ae-4870-f5b0-ca461032e82f"
      },
      "execution_count": null,
      "outputs": [
        {
          "output_type": "stream",
          "name": "stdout",
          "text": [
            "(1, 'avenue-g9ad8b9b60_640.jpg')\n",
            "(2, 'dandelion-ge4c90edd8_640.jpg')\n",
            "(3, 'fantasy-g95f970a56_640.jpg')\n",
            "(4, 'garden-g42e486784_640.jpg')\n",
            "(5, 'pink-ge82d54651_640.jpg')\n",
            "(6, 'road-g37132565b_640.jpg')\n",
            "(7, 'road-g41ea28d46_640.jpg')\n",
            "(8, 'sunset-gac16749a1_640.jpg')\n",
            "(9, 'tree-g386d6021c_640.jpg')\n",
            "(10, 'tree-gd34ff2fcb_640.jpg')\n",
            "(1, 'avenue-g9ad8b9b60_640.jpg')\n",
            "(2, 'dandelion-ge4c90edd8_640.jpg')\n",
            "(3, 'fantasy-g95f970a56_640.jpg')\n",
            "(4, 'garden-g42e486784_640.jpg')\n",
            "(5, 'pink-ge82d54651_640.jpg')\n",
            "(6, 'road-g37132565b_640.jpg')\n",
            "(7, 'road-g41ea28d46_640.jpg')\n",
            "(8, 'sunset-gac16749a1_640.jpg')\n",
            "(9, 'tree-g386d6021c_640.jpg')\n",
            "(10, 'tree-gd34ff2fcb_640.jpg')\n",
            "(1, 'avenue-g9ad8b9b60_640.jpg')\n",
            "(2, 'dandelion-ge4c90edd8_640.jpg')\n",
            "(3, 'fantasy-g95f970a56_640.jpg')\n",
            "(4, 'garden-g42e486784_640.jpg')\n",
            "(5, 'pink-ge82d54651_640.jpg')\n",
            "(6, 'road-g37132565b_640.jpg')\n",
            "(7, 'road-g41ea28d46_640.jpg')\n",
            "(8, 'sunset-gac16749a1_640.jpg')\n",
            "(9, 'tree-g386d6021c_640.jpg')\n",
            "(10, 'tree-gd34ff2fcb_640.jpg')\n"
          ]
        }
      ]
    },
    {
      "cell_type": "code",
      "source": [],
      "metadata": {
        "id": "RJapmZCvIjfq"
      },
      "execution_count": null,
      "outputs": []
    }
  ]
}