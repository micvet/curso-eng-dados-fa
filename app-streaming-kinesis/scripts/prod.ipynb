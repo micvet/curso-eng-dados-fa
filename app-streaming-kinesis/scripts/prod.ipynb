{
  "nbformat": 4,
  "nbformat_minor": 0,
  "metadata": {
    "colab": {
      "provenance": []
    },
    "kernelspec": {
      "name": "python3",
      "display_name": "Python 3"
    },
    "language_info": {
      "name": "python"
    }
  },
  "cells": [
    {
      "cell_type": "code",
      "execution_count": 1,
      "metadata": {
        "id": "H5aQBl83JWLJ",
        "colab": {
          "base_uri": "https://localhost:8080/"
        },
        "outputId": "9c68ffbf-bb43-4b3e-a690-07ad8ff3f737"
      },
      "outputs": [
        {
          "output_type": "stream",
          "name": "stdout",
          "text": [
            "Collecting boto3\n",
            "  Downloading boto3-1.34.46-py3-none-any.whl (139 kB)\n",
            "\u001b[2K     \u001b[90m━━━━━━━━━━━━━━━━━━━━━━━━━━━━━━━━━━━━━━━━\u001b[0m \u001b[32m139.3/139.3 kB\u001b[0m \u001b[31m2.8 MB/s\u001b[0m eta \u001b[36m0:00:00\u001b[0m\n",
            "\u001b[?25hCollecting botocore<1.35.0,>=1.34.46 (from boto3)\n",
            "  Downloading botocore-1.34.46-py3-none-any.whl (12.0 MB)\n",
            "\u001b[2K     \u001b[90m━━━━━━━━━━━━━━━━━━━━━━━━━━━━━━━━━━━━━━━━\u001b[0m \u001b[32m12.0/12.0 MB\u001b[0m \u001b[31m53.9 MB/s\u001b[0m eta \u001b[36m0:00:00\u001b[0m\n",
            "\u001b[?25hCollecting jmespath<2.0.0,>=0.7.1 (from boto3)\n",
            "  Downloading jmespath-1.0.1-py3-none-any.whl (20 kB)\n",
            "Collecting s3transfer<0.11.0,>=0.10.0 (from boto3)\n",
            "  Downloading s3transfer-0.10.0-py3-none-any.whl (82 kB)\n",
            "\u001b[2K     \u001b[90m━━━━━━━━━━━━━━━━━━━━━━━━━━━━━━━━━━━━━━━━\u001b[0m \u001b[32m82.1/82.1 kB\u001b[0m \u001b[31m9.6 MB/s\u001b[0m eta \u001b[36m0:00:00\u001b[0m\n",
            "\u001b[?25hRequirement already satisfied: python-dateutil<3.0.0,>=2.1 in /usr/local/lib/python3.10/dist-packages (from botocore<1.35.0,>=1.34.46->boto3) (2.8.2)\n",
            "Requirement already satisfied: urllib3<2.1,>=1.25.4 in /usr/local/lib/python3.10/dist-packages (from botocore<1.35.0,>=1.34.46->boto3) (2.0.7)\n",
            "Requirement already satisfied: six>=1.5 in /usr/local/lib/python3.10/dist-packages (from python-dateutil<3.0.0,>=2.1->botocore<1.35.0,>=1.34.46->boto3) (1.16.0)\n",
            "Installing collected packages: jmespath, botocore, s3transfer, boto3\n",
            "Successfully installed boto3-1.34.46 botocore-1.34.46 jmespath-1.0.1 s3transfer-0.10.0\n"
          ]
        }
      ],
      "source": [
        "!pip install boto3 #Primeiramente vamos instalar o boto3 para interagir com os serviços da AWS."
      ]
    },
    {
      "cell_type": "code",
      "source": [
        "import boto3\n",
        "import json\n",
        "\n",
        "#Agora precisamos criar uma instância do cliente.\n",
        "\n",
        "cliente = boto3.client('kinesis',aws_access_key_id='SUA-CHAVE-DE-ACESSO',aws_secret_access_key='SUA-CHAVE-DE-ACESSO-SECRETA',\n",
        "                       region_name='CÓDIGO-DA-SUA-LOCALIDADE)\n",
        "\n",
        "#Para o stream de dados, os dados têm que estar serializados no formato JSON. A melhor forma de fazer isso é por meioda criação de uma estrutura DIC no python.\n",
        "\n",
        "registro = {'idvendedor' : '999', 'nome' : 'Diogo' }\n",
        "\n",
        "resposta = cliente.put_record(\n",
        "                  StreamName='flow1', #nome do seu fluxo de dados no  Kinesis\n",
        "                  Data = json.dumps(registro),\n",
        "                  PartitionKey='02'\n",
        "                  )\n",
        "print(resposta)\n"
      ],
      "metadata": {
        "colab": {
          "base_uri": "https://localhost:8080/"
        },
        "id": "t2XXdkeCLdmQ",
        "outputId": "c09f476b-0e1f-4eb4-84ed-bae09763709f"
      },
      "execution_count": 2,
      "outputs": [
        {
          "output_type": "stream",
          "name": "stdout",
          "text": [
            "{'ShardId': 'shardId-000000000002', 'SequenceNumber': '49649411319440027333200741522030170786294649793365934114', 'ResponseMetadata': {'RequestId': 'ca2209c8-2a06-5a2f-946d-0453e62700da', 'HTTPStatusCode': 200, 'HTTPHeaders': {'x-amzn-requestid': 'ca2209c8-2a06-5a2f-946d-0453e62700da', 'x-amz-id-2': 'dy/hAhvpdR+J4yAftXw5wKoJ7dpGt1e5bthGbWV5YxiExBDA08UtR9e88eqHtDgRAs8v5cXg+PiDsuUzYi8Jl+fMjIL1M0LX9wjiFg1d5iA=', 'date': 'Tue, 20 Feb 2024 20:28:11 GMT', 'content-type': 'application/x-amz-json-1.1', 'content-length': '110', 'connection': 'keep-alive'}, 'RetryAttempts': 0}}\n"
          ]
        }
      ]
    },
    {
      "cell_type": "code",
      "source": [],
      "metadata": {
        "id": "SI-E6K8PMR5h"
      },
      "execution_count": null,
      "outputs": []
    }
  ]
}